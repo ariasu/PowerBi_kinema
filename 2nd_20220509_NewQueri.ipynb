{
 "cells": [
  {
   "cell_type": "code",
   "execution_count": 1,
   "id": "b0111a74",
   "metadata": {},
   "outputs": [],
   "source": [
    "import os\n",
    "import numpy as np\n",
    "import pandas as pd\n",
    "import seaborn as sns"
   ]
  },
  {
   "cell_type": "code",
   "execution_count": 2,
   "id": "dc70c36c",
   "metadata": {},
   "outputs": [],
   "source": [
    "df = pd.read_csv('20220518_2019_2022_MarchFinish.csv')\n",
    "del df['Unnamed: 0']\n",
    "\n",
    "df['年'] = df['日付'].astype(str).str[:4]\n",
    "df['月'] = df['日付'].astype(str).str[4:6]\n",
    "df['日'] = df['日付'].astype(str).str[6:8]\n",
    "df['年'] = df['年'].astype(int)\n",
    "df['月'] = df['月'].astype(int)\n",
    "df['日'] = df['日'].astype(int)\n",
    "\n",
    "del df['日付']\n",
    "del df['順位']\n",
    "del df['販売数']\n",
    "del df['座席数']\n",
    "del df['回数']\n",
    "del df['館数']\n",
    "del df['先週比']\n",
    "\n",
    "unique = []\n",
    "PublishDate = []\n",
    "a = 0\n",
    "try:\n",
    "    while a < len(df):\n",
    "        if df.iloc[a, 0] in unique:\n",
    "            df = df.drop(labels=a, axis=0)\n",
    "            a+=1\n",
    "        else:\n",
    "            unique.append(df.iloc[a, 0])\n",
    "            PublishDate.append(df.iloc[a, :])\n",
    "            a+=1\n",
    "\n",
    "except IndexError:\n",
    "    pass\n",
    "\n",
    "PublishDf = pd.DataFrame(PublishDate)\n",
    "PublishDf['公開日'] = PublishDf['年']*10000 + PublishDf['月']*100 + PublishDf['日']\n",
    "\n",
    "PublishDf.to_csv('20220518_Finish_PublishData.csv')"
   ]
  },
  {
   "cell_type": "code",
   "execution_count": null,
   "id": "8abe1ff5",
   "metadata": {},
   "outputs": [],
   "source": []
  }
 ],
 "metadata": {
  "kernelspec": {
   "display_name": "Python 3 (ipykernel)",
   "language": "python",
   "name": "python3"
  },
  "language_info": {
   "codemirror_mode": {
    "name": "ipython",
    "version": 3
   },
   "file_extension": ".py",
   "mimetype": "text/x-python",
   "name": "python",
   "nbconvert_exporter": "python",
   "pygments_lexer": "ipython3",
   "version": "3.9.7"
  }
 },
 "nbformat": 4,
 "nbformat_minor": 5
}
