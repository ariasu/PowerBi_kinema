{
 "cells": [
  {
   "cell_type": "code",
   "execution_count": 5,
   "id": "5a61667c",
   "metadata": {},
   "outputs": [],
   "source": [
    "from selenium import webdriver\n",
    "import csv\n",
    "import pandas as pd\n",
    "import re\n"
   ]
  },
  {
   "cell_type": "code",
   "execution_count": 6,
   "id": "b8b6b8c9",
   "metadata": {},
   "outputs": [],
   "source": [
    "driver = webdriver.Chrome('chromedriver.exe')"
   ]
  },
  {
   "cell_type": "code",
   "execution_count": 12,
   "id": "82f1b7ad",
   "metadata": {},
   "outputs": [],
   "source": [
    "test2 = []\n",
    "Year = []\n",
    "publisher = []\n",
    "y = 1\n",
    "haikyu = '東映'\n",
    "\n",
    "#公開終了の映画を取得\n",
    "url = 'https://www.toei.co.jp/movie/mo_back02.html'\n",
    "driver.get(url)\n",
    "\n",
    "#/html/body/div[1]/div[3]/div[2]/div/main/div[3]/div/div/div[1]/div/p/a\n",
    "#/html/body/div[1]/div[3]/div[2]/div/main/div[3]/div/div/div[4]/div/p/a\n",
    "#/html/body/div[1]/div[3]/div[2]/div/main/div[3]/div/div/div[5]/div/p/a\n",
    "\n",
    "for x in range(1, 20):              \n",
    "    aim = '/html/body/div[1]/div[3]/div[2]/div/main/div[3]/div/div/div[{}]/div/p/a'.format(x)\n",
    "                                                                       \n",
    "    if len(driver.find_elements_by_xpath(aim)) > 0:\n",
    "        test = driver.find_element_by_xpath(aim)\n",
    "        test2.append(test.text)\n",
    "        Year.append(2021)\n",
    "        publisher.append(haikyu)\n",
    "                                                                  \n",
    "#dfにする\n",
    "df = pd.DataFrame(zip(Year, test2, publisher))\n",
    "df.columns = ['公開年', '映画（作品名）', '配給']\n",
    "df.to_csv('Kinema_publisher_{}_df_20220528.csv'.format(haikyu))"
   ]
  },
  {
   "cell_type": "code",
   "execution_count": null,
   "id": "745dc47e",
   "metadata": {},
   "outputs": [],
   "source": []
  }
 ],
 "metadata": {
  "kernelspec": {
   "display_name": "Python 3 (ipykernel)",
   "language": "python",
   "name": "python3"
  },
  "language_info": {
   "codemirror_mode": {
    "name": "ipython",
    "version": 3
   },
   "file_extension": ".py",
   "mimetype": "text/x-python",
   "name": "python",
   "nbconvert_exporter": "python",
   "pygments_lexer": "ipython3",
   "version": "3.9.7"
  }
 },
 "nbformat": 4,
 "nbformat_minor": 5
}
