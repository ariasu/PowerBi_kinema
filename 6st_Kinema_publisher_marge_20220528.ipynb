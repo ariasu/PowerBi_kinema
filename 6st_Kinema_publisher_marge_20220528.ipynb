{
 "cells": [
  {
   "cell_type": "code",
   "execution_count": 3,
   "id": "ddaebf69",
   "metadata": {},
   "outputs": [],
   "source": [
    "import pandas as pd"
   ]
  },
  {
   "cell_type": "code",
   "execution_count": 4,
   "id": "c7baefb8",
   "metadata": {},
   "outputs": [],
   "source": [
    "toho = pd.read_csv('Kinema_publisher_東宝_df_20220528.csv')\n",
    "toei = pd.read_csv('Kinema_publisher_東映_df_20220528.csv')\n",
    "syochiku = pd.read_csv('Kinema_publisher_松竹_df_20220528.csv')\n",
    "\n",
    "df = pd.merge(toho, toei, how='outer')\n",
    "df = pd.merge(df, syochiku, how='outer')\n",
    "\n",
    "del df['Unnamed: 0']\n",
    "df.to_csv('Kinema_publisher_all_df_20220528.csv')"
   ]
  },
  {
   "cell_type": "code",
   "execution_count": null,
   "id": "2c7c34b0",
   "metadata": {},
   "outputs": [],
   "source": []
  }
 ],
 "metadata": {
  "kernelspec": {
   "display_name": "Python 3 (ipykernel)",
   "language": "python",
   "name": "python3"
  },
  "language_info": {
   "codemirror_mode": {
    "name": "ipython",
    "version": 3
   },
   "file_extension": ".py",
   "mimetype": "text/x-python",
   "name": "python",
   "nbconvert_exporter": "python",
   "pygments_lexer": "ipython3",
   "version": "3.9.7"
  }
 },
 "nbformat": 4,
 "nbformat_minor": 5
}
